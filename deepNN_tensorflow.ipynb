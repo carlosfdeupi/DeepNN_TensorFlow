{
  "nbformat": 4,
  "nbformat_minor": 0,
  "metadata": {
    "coursera": {
      "course_slug": "neural-networks-deep-learning",
      "graded_item_id": "TSPse",
      "launcher_item_id": "24mxX"
    },
    "kernelspec": {
      "display_name": "Python 3",
      "language": "python",
      "name": "python3"
    },
    "language_info": {
      "codemirror_mode": {
        "name": "ipython",
        "version": 3
      },
      "file_extension": ".py",
      "mimetype": "text/x-python",
      "name": "python",
      "nbconvert_exporter": "python",
      "pygments_lexer": "ipython3",
      "version": "3.8.10"
    },
    "colab": {
      "name": "deepNN_tensorflow.ipynb",
      "provenance": [],
      "collapsed_sections": [],
      "include_colab_link": true
    }
  },
  "cells": [
    {
      "cell_type": "markdown",
      "metadata": {
        "id": "view-in-github",
        "colab_type": "text"
      },
      "source": [
        "<a href=\"https://colab.research.google.com/github/carlosfdeupi/DeepNN_TensorFlow/blob/main/deepNN_tensorflow.ipynb\" target=\"_parent\"><img src=\"https://colab.research.google.com/assets/colab-badge.svg\" alt=\"Open In Colab\"/></a>"
      ]
    },
    {
      "cell_type": "markdown",
      "metadata": {
        "id": "WQInL2R-rxRP"
      },
      "source": [
        "# Image Application: cat or not?\n",
        "\n",
        "**After this assignment you will be able to:**\n",
        "- Build and apply a deep neural network to supervised learning. \n",
        "- Learn how to do data normalization\n",
        "- learn how to do weight initialization\n",
        "- Learn how to use regularization\n",
        "\n",
        "Let's get started!"
      ]
    },
    {
      "cell_type": "markdown",
      "metadata": {
        "id": "xys4aQ5UrxRT"
      },
      "source": [
        "## 1 - Packages"
      ]
    },
    {
      "cell_type": "markdown",
      "metadata": {
        "id": "hei_-Ma-tOhR"
      },
      "source": [
        "**Exercise**: Please mount your Google drive, and set up your working folder here."
      ]
    },
    {
      "cell_type": "code",
      "metadata": {
        "id": "_0U8Y54Congl",
        "colab": {
          "base_uri": "https://localhost:8080/"
        },
        "outputId": "5d5ecd3d-2dc5-4587-f241-8c749c778fc4"
      },
      "source": [
        "from google.colab import drive\n",
        "drive.mount('/content/drive')"
      ],
      "execution_count": null,
      "outputs": [
        {
          "output_type": "stream",
          "name": "stdout",
          "text": [
            "Mounted at /content/drive\n"
          ]
        }
      ]
    },
    {
      "cell_type": "code",
      "metadata": {
        "id": "ibN88sy3sxy5"
      },
      "source": [
        "import os\n",
        "# start your code here\n",
        "os.chdir(\"/content/drive/MyDrive/Homework3\") # change your working folder here\n",
        "# end your code here"
      ],
      "execution_count": null,
      "outputs": []
    },
    {
      "cell_type": "markdown",
      "metadata": {
        "id": "o9H7MX-2rxRT"
      },
      "source": [
        "Let's first import all the packages that you will need during this assignment. \n",
        "- [numpy](https://www.numpy.org/) is the fundamental package for scientific computing with Python.\n",
        "- [matplotlib](http://matplotlib.org) is a library to plot graphs in Python.\n",
        "- [h5py](http://www.h5py.org) is a common package to interact with a dataset that is stored on an H5 file.\n",
        "- [PIL](http://www.pythonware.com/products/pil/) and [scipy](https://www.scipy.org/) are used here to test your model with your own picture at the end.\n",
        "- dnn_app_utils provides the customized functions that will be used in this notebook.\n",
        "- np.random.seed(1) is used to keep all the random function calls consistent. It will help us grade your work."
      ]
    },
    {
      "cell_type": "code",
      "metadata": {
        "id": "MY54vu0IrxRU"
      },
      "source": [
        "import time\n",
        "import numpy as np\n",
        "import tensorflow as tf\n",
        "import h5py\n",
        "import matplotlib.pyplot as plt\n",
        "import dnn_app_utils_v3 as du\n",
        "from skimage.transform import rescale, resize, downscale_local_mean\n",
        "\n",
        "# refresh 'planar_utils' module\n",
        "import imp\n",
        "imp.reload(du)\n",
        "\n",
        "%matplotlib inline\n",
        "plt.rcParams['figure.figsize'] = (5.0, 4.0) # set default size of plots\n",
        "plt.rcParams['image.interpolation'] = 'nearest'\n",
        "plt.rcParams['image.cmap'] = 'gray'\n",
        "\n",
        "%load_ext autoreload\n",
        "%autoreload 2\n",
        "\n",
        "np.random.seed(1)\n",
        "tf.random.set_seed(1)"
      ],
      "execution_count": null,
      "outputs": []
    },
    {
      "cell_type": "markdown",
      "metadata": {
        "id": "Ng-fWoBBrxRW"
      },
      "source": [
        "## 2 - Dataset\n",
        "\n",
        "**Problem Statement**: You are given a dataset (\"data.h5\") containing:\n",
        "    - a training set of m_train images labelled as cat (1) or non-cat (0)\n",
        "    - a test set of m_test images labelled as cat and non-cat\n",
        "    - each image is of shape (num_px, num_px, 3) where 3 is for the 3 channels (RGB).\n",
        "\n",
        "Let's get more familiar with the dataset. Load the data by running the cell below.\n",
        "\n",
        "The training input and output are stored in 'train_x_orig' and 'train_y'. The test input and output are stored in 'test_x_orig' and 'test_y'. "
      ]
    },
    {
      "cell_type": "code",
      "metadata": {
        "id": "JeriZ2MHrxRW"
      },
      "source": [
        "train_x_orig, train_y, test_x_orig, test_y, classes = du.load_data()\n",
        "#print(classes)"
      ],
      "execution_count": null,
      "outputs": []
    },
    {
      "cell_type": "markdown",
      "metadata": {
        "id": "B6gdY7eWrxRX"
      },
      "source": [
        "The following code will show you an image in the dataset. Feel free to change the index and re-run the cell multiple times to see other images. "
      ]
    },
    {
      "cell_type": "code",
      "metadata": {
        "id": "GLC4JfABrxRX",
        "colab": {
          "base_uri": "https://localhost:8080/",
          "height": 286
        },
        "outputId": "c7ca1474-cf82-4abe-aef8-f731c033e727"
      },
      "source": [
        "# Example of a picture\n",
        "index = 200\n",
        "plt.imshow(train_x_orig[index])\n",
        "print(\"y = \" + str(train_y[index,0]) + \". It's a \" + classes[train_y[index,0]].decode(\"utf-8\") +  \" picture.\")\n",
        "#print(train_x_orig[index].shape,train_x_orig[index])"
      ],
      "execution_count": null,
      "outputs": [
        {
          "output_type": "stream",
          "name": "stdout",
          "text": [
            "y = 1. It's a cat picture.\n"
          ]
        },
        {
          "output_type": "display_data",
          "data": {
            "image/png": "[encoded data removed]",
            "text/plain": [
              "<Figure size 360x288 with 1 Axes>"
            ]
          },
          "metadata": {
            "needs_background": "light"
          }
        }
      ]
    },
    {
      "cell_type": "markdown",
      "metadata": {
        "id": "8LcmDz99lbsD"
      },
      "source": [
        "Let's explore more about the training data. We are curious about the shape of each image and can use 'train_x_orig[index].shape' to expore it. \n",
        "**Exercise**: Can you tell what the pixel number of each image is?"
      ]
    },
    {
      "cell_type": "code",
      "metadata": {
        "id": "tKIwmFCyrxRY",
        "colab": {
          "base_uri": "https://localhost:8080/"
        },
        "outputId": "a4931199-1b99-4422-d816-3aa5e21535c7"
      },
      "source": [
        "# Explore your dataset \n",
        "image_shape=train_x_orig[index].shape\n",
        "print(\"Each image is of size: \", image_shape)\n",
        "#start your code here\n",
        "num_px= image_shape[0]  # the number of pixels in each column of the image. Hint: The 1st element in image_shape indicates this number?\n",
        "#end your code here\n",
        "print('Number of pixels in each column of the image:', num_px)"
      ],
      "execution_count": null,
      "outputs": [
        {
          "output_type": "stream",
          "name": "stdout",
          "text": [
            "Each image is of size:  (64, 64, 3)\n",
            "Number of pixels in each column of the image: 64\n"
          ]
        }
      ]
    },
    {
      "cell_type": "markdown",
      "source": [
        "**Expected result:**\n",
        "\n",
        "Each image is of size:  (64, 64, 3)\n",
        "\n",
        "Number of pixels in each column of the image: 209\n"
      ],
      "metadata": {
        "id": "yWNinESiCkYX"
      }
    },
    {
      "cell_type": "markdown",
      "metadata": {
        "id": "SBoQZoWQpBU4"
      },
      "source": [
        "We just take a close look at an image of the image set. Now, let's take a look at the whole training set. \n",
        "\n",
        "**Exercise**: The first 4 lines in the following cell print out the shape of the trining images. There are 209 images, and each image has 64 by 64 pixcels and GRB color. \n",
        "\n",
        "Please print out the shape of the test input (stored in `test_x_orig`) and output (stored in `test_y`) data, and tell how many images we have in the test data. "
      ]
    },
    {
      "cell_type": "code",
      "metadata": {
        "colab": {
          "base_uri": "https://localhost:8080/"
        },
        "id": "79Q7fiuYnP1C",
        "outputId": "0301a403-bf56-4616-b2b0-bfcb72d08ed5"
      },
      "source": [
        "train_x_shape=train_x_orig.shape\n",
        "m_train = train_x_shape[0]\n",
        "print (\"train_x_orig shape: \",train_x_shape)\n",
        "print (\"Number of training examples: \" ,m_train)\n",
        "# start your code here\n",
        "test_x_shape= test_x_orig.shape\n",
        "test_y_shape= test_y.shape\n",
        "m_test = test_x_orig.shape[0]\n",
        "# end your code here\n",
        "\n",
        "print (\"test_x_orig shape: \" ,test_x_shape)\n",
        "print (\"test_y shape: \" , test_y_shape)\n",
        "print (\"Number of test examples: \" ,m_test)"
      ],
      "execution_count": null,
      "outputs": [
        {
          "output_type": "stream",
          "name": "stdout",
          "text": [
            "train_x_orig shape:  (209, 64, 64, 3)\n",
            "Number of training examples:  209\n",
            "test_x_orig shape:  (50, 64, 64, 3)\n",
            "test_y shape:  (50, 1)\n",
            "Number of test examples:  50\n"
          ]
        }
      ]
    },
    {
      "cell_type": "markdown",
      "source": [
        "**Expected result:**\n",
        "\n",
        "train_x_orig shape:  (209, 64, 64, 3)\n",
        "\n",
        "Number of training examples:  209\n",
        "\n",
        "test_x_orig shape:  (50, 64, 64, 3)\n",
        "\n",
        "test_y shape:  (50, 1)\n",
        "\n",
        "Number of test examples:  50 "
      ],
      "metadata": {
        "id": "sKRWGLxlCy6-"
      }
    },
    {
      "cell_type": "markdown",
      "metadata": {
        "id": "pMoCSiCWrxRY"
      },
      "source": [
        "As mentioned in our lecture, you reshape and standardize the images before feeding them to the network. The code is given in the cell below.\n",
        "\n",
        "![alt text](https://drive.google.com/uc?id=1TVZDDvQUKuSMUqMtS7Ahessd3-H8bqq9)\n",
        "<caption><center> <u>Figure 1</u>: Image to vector conversion. <br> </center></caption>"
      ]
    },
    {
      "cell_type": "code",
      "metadata": {
        "id": "nrdXco3grxRY"
      },
      "source": [
        "# Reshape the training and test examples \n",
        "train_x_flatten = train_x_orig.reshape(train_x_shape[0], -1)   # The \"-1\" makes reshape flatten the remaining dimensions\n",
        "test_x_flatten = test_x_orig.reshape(test_x_orig.shape[0], -1)"
      ],
      "execution_count": null,
      "outputs": []
    },
    {
      "cell_type": "markdown",
      "metadata": {
        "id": "vvmsCTJfN_OS"
      },
      "source": [
        "Data normalization can help us accelerate the training process. The RGB values of an image are integers in the range of [0,255]. We can normalize the training images to have the feature values between 0 and 1 by using `train_x = train_x_flatten/255.0`.\n",
        "\n",
        "**Exercise**: We normalize the training images using `train_x = train_x_flatten/255.0` in the 1st line. Please normalize the test images to have feature values between 0 and 1."
      ]
    },
    {
      "cell_type": "code",
      "metadata": {
        "colab": {
          "base_uri": "https://localhost:8080/"
        },
        "id": "XpmJC7S8OlGL",
        "outputId": "6ed836c4-1490-41af-d128-ae506d4a30e6"
      },
      "source": [
        "# Standardize data to have feature values between 0 and 1.\n",
        "train_x = train_x_flatten/255.0\n",
        "\n",
        "#start your code here\n",
        "test_x = test_x_flatten/255.0\n",
        "#end your code here\n",
        "\n",
        "print (\"train_x's shape: \" + str(train_x.shape))\n",
        "print (\"test_x's shape: \" + str(test_x.shape))\n",
        "print (\"train_y's shape: \" + str(train_y.shape))\n",
        "print (\"test_y's shape: \" + str(test_y.shape))"
      ],
      "execution_count": null,
      "outputs": [
        {
          "output_type": "stream",
          "name": "stdout",
          "text": [
            "train_x's shape: (209, 12288)\n",
            "test_x's shape: (50, 12288)\n",
            "train_y's shape: (209, 1)\n",
            "test_y's shape: (50, 1)\n"
          ]
        }
      ]
    },
    {
      "cell_type": "markdown",
      "source": [
        "**Expected result:**\n",
        "\n",
        "train_x's shape: (209, 12288)\n",
        "\n",
        "test_x's shape: (50, 12288)\n",
        "\n",
        "train_y's shape: (209, 1)\n",
        "\n",
        "test_y's shape: (50, 1)"
      ],
      "metadata": {
        "id": "oj19VUdFDKHD"
      }
    },
    {
      "cell_type": "markdown",
      "metadata": {
        "id": "4q-yRZNQQBtY"
      },
      "source": [
        "###3- Build your neural network ###\n",
        "Now, we are going to use the skills in the first module to build our neural network. \n",
        "\n",
        "Excep the input layer, you can use \n",
        "\n",
        "`tf.keras.layers.Dense(20,activation='relu', \n",
        "                            kernel_initializer='glorot_uniform',\n",
        "                            bias_initializer='zeros')`\n",
        "\n",
        "to build the layers. In this example, we have 20 neurons in this layer, use 'relu' as the activation function, initialize our weight randomly using 'glorot_uniform', and our bias is initialized to be 'zeros'. \n",
        "\n",
        "First, we will need an input layer. How many neurons will you need in the input layer? Hint: how many elements does every training input have?\n",
        "\n",
        "Second, we will build several hidden layers. You are free to choose the number of neurons in every hidden layer. \n",
        "\n",
        "Last, we will build the output layer. How many neurons will you need in the output layer? Which activation function is more suitale in this problem? Hint: how many elements does every training output have? What is the range of the training output?\n"
      ]
    },
    {
      "cell_type": "code",
      "metadata": {
        "id": "H71UHvjaxREs",
        "colab": {
          "base_uri": "https://localhost:8080/"
        },
        "outputId": "a7d32d08-8bc4-4948-a98e-dbae7064b181"
      },
      "source": [
        "tf.random.set_seed(1) # we fixed the seed of the random number generator, so every time running this code, we can have the same results.\n",
        "\n",
        "# start your code here\n",
        "cat_model=tf.keras.Sequential([\n",
        "    tf.keras.layers.InputLayer(input_shape=(12288)), # how many elements are there in every training image?\n",
        "    tf.keras.layers.Dense(20,activation='relu', # in layer 1, we will have 20 neurons and use 'relu' as the activation function\n",
        "                            kernel_initializer='glorot_uniform', # we will randomly choose the initial weight using the 'glorot_uniform' method\n",
        "                            bias_initializer='zeros'), # we will initialize all bias to be zeros.\n",
        "    #please follow the example of layer 1 to add more hidden layers here. \n",
        "    tf.keras.layers.Dense(15,activation='relu', \n",
        "                            kernel_initializer='glorot_uniform', \n",
        "                            bias_initializer='zeros'),\n",
        "    tf.keras.layers.Dense(25,activation='relu', \n",
        "                            kernel_initializer='glorot_uniform', \n",
        "                            bias_initializer='zeros'),                        \n",
        "\n",
        "    # End adding hidden layers                    \n",
        "    tf.keras.layers.Dense(1,activation='sigmoid', # how many elements are there in every training output\n",
        "                            kernel_initializer='glorot_uniform',\n",
        "                            bias_initializer='zeros'),\n",
        "])\n",
        "# end your code here\n",
        "cat_model.summary()"
      ],
      "execution_count": null,
      "outputs": [
        {
          "output_type": "stream",
          "name": "stdout",
          "text": [
            "Model: \"sequential\"\n",
            "_________________________________________________________________\n",
            " Layer (type)                Output Shape              Param #   \n",
            "=================================================================\n",
            " dense (Dense)               (None, 20)                245780    \n",
            "                                                                 \n",
            " dense_1 (Dense)             (None, 15)                315       \n",
            "                                                                 \n",
            " dense_2 (Dense)             (None, 25)                400       \n",
            "                                                                 \n",
            " dense_3 (Dense)             (None, 1)                 26        \n",
            "                                                                 \n",
            "=================================================================\n",
            "Total params: 246,521\n",
            "Trainable params: 246,521\n",
            "Non-trainable params: 0\n",
            "_________________________________________________________________\n"
          ]
        }
      ]
    },
    {
      "cell_type": "markdown",
      "metadata": {
        "id": "nRMApHybXkD8"
      },
      "source": [
        "Now, let's compile the model. When comiling your model, you will need to specify the optimizer, the loss function, and the metrics.\n",
        "\n",
        "For optimizers, the most popular ones are 'Adam' and its derivatives. You can also try 'RMSprop' and 'SGD' to see which one works better for you. You might need adjust the learning rate to acceperate the training process. \n",
        "\n",
        "For loss functions, our problem is a two-class classification problem. The most popular loss function would be 'BinaryCrossentropy'. If this is a multiple-class classification problem, you probably want to try 'CategoricalCrossentropy' or 'SparseCategoricalCrossentropy'. \n",
        "\n",
        "For the metrics, we want to know the accuracy of our model. Therefore, I would recommend 'accuracy'. "
      ]
    },
    {
      "cell_type": "code",
      "metadata": {
        "id": "R2zh-VWoT7o5"
      },
      "source": [
        "# start your code here\n",
        "cat_model.compile(optimizer=tf.keras.optimizers.Adam(learning_rate=0.0015),  # Optimizer. Please change 'None' to some meaningful learning rate which is usually <1\n",
        "    # Loss function to minimize\n",
        "    loss=tf.keras.losses.BinaryCrossentropy(),\n",
        "    # List of metrics to monitor\n",
        "    metrics=['accuracy'],\n",
        "                 )\n",
        "# end your code here"
      ],
      "execution_count": null,
      "outputs": []
    },
    {
      "cell_type": "markdown",
      "metadata": {
        "id": "SGSAcJuTZw2C"
      },
      "source": [
        "It's time to train. \n",
        "\n",
        "We can plot training history. It can help us to adjust the parameters. \n",
        "\n",
        "If the training loss increases, we may want to decrease the `learning_rate`.\n",
        "\n",
        "If the training loss has large vibration, we may want to decrease the `learning_rate`. \n",
        "\n",
        "If the training loss decreases too slowly, we need to increase `learning_rate`.\n",
        "\n",
        "If the training loss decreases at a good speed, but ends up large, we may want to increase the epoch number. "
      ]
    },
    {
      "cell_type": "code",
      "metadata": {
        "colab": {
          "base_uri": "https://localhost:8080/",
          "height": 1000
        },
        "id": "TYZnpHLPVIRY",
        "outputId": "6556be86-e6cd-4886-c882-f3001c46f241"
      },
      "source": [
        "# start your code here\n",
        "history = cat_model.fit(\n",
        "    train_x, # input data\n",
        "    train_y, # real output data\n",
        "    epochs=110, # how many iterations do you want to train your model? Your data will be reused to train the model for the number of epochs. I trained 5 min for this model\n",
        ")\n",
        "# end your code here. \n",
        "plt.figure()\n",
        "plt.plot(history.history['loss'])\n",
        "plt.plot(history.history['val_loss'])\n",
        "plt.legend(['loss','val_loss'])"
      ],
      "execution_count": null,
      "outputs": [
        {
          "output_type": "stream",
          "name": "stdout",
          "text": [
            "Epoch 1/110\n",
            "7/7 [==============================] - 1s 61ms/step - loss: 0.7361 - accuracy: 0.6555\n",
            "Epoch 2/110\n",
            "7/7 [==============================] - 0s 6ms/step - loss: 0.6664 - accuracy: 0.6555\n",
            "Epoch 3/110\n",
            "7/7 [==============================] - 0s 5ms/step - loss: 0.6569 - accuracy: 0.6555\n",
            "Epoch 4/110\n",
            "7/7 [==============================] - 0s 5ms/step - loss: 0.6340 - accuracy: 0.6555\n",
            "Epoch 5/110\n",
            "7/7 [==============================] - 0s 6ms/step - loss: 0.6429 - accuracy: 0.6507\n",
            "Epoch 6/110\n",
            "7/7 [==============================] - 0s 6ms/step - loss: 0.6403 - accuracy: 0.6555\n",
            "Epoch 7/110\n",
            "7/7 [==============================] - 0s 6ms/step - loss: 0.5933 - accuracy: 0.6507\n",
            "Epoch 8/110\n",
            "7/7 [==============================] - 0s 6ms/step - loss: 0.6218 - accuracy: 0.6507\n",
            "Epoch 9/110\n",
            "7/7 [==============================] - 0s 6ms/step - loss: 0.6023 - accuracy: 0.6651\n",
            "Epoch 10/110\n",
            "7/7 [==============================] - 0s 6ms/step - loss: 0.5699 - accuracy: 0.6507\n",
            "Epoch 11/110\n",
            "7/7 [==============================] - 0s 6ms/step - loss: 0.5674 - accuracy: 0.6555\n",
            "Epoch 12/110\n",
            "7/7 [==============================] - 0s 7ms/step - loss: 0.5226 - accuracy: 0.6555\n",
            "Epoch 13/110\n",
            "7/7 [==============================] - 0s 5ms/step - loss: 0.5099 - accuracy: 0.7033\n",
            "Epoch 14/110\n",
            "7/7 [==============================] - 0s 6ms/step - loss: 0.5127 - accuracy: 0.7321\n",
            "Epoch 15/110\n",
            "7/7 [==============================] - 0s 6ms/step - loss: 0.5034 - accuracy: 0.7321\n",
            "Epoch 16/110\n",
            "7/7 [==============================] - 0s 6ms/step - loss: 0.4908 - accuracy: 0.7225\n",
            "Epoch 17/110\n",
            "7/7 [==============================] - 0s 5ms/step - loss: 0.5632 - accuracy: 0.6938\n",
            "Epoch 18/110\n",
            "7/7 [==============================] - 0s 6ms/step - loss: 0.4818 - accuracy: 0.7081\n",
            "Epoch 19/110\n",
            "7/7 [==============================] - 0s 7ms/step - loss: 0.4560 - accuracy: 0.6986\n",
            "Epoch 20/110\n",
            "7/7 [==============================] - 0s 7ms/step - loss: 0.4402 - accuracy: 0.7799\n",
            "Epoch 21/110\n",
            "7/7 [==============================] - 0s 7ms/step - loss: 0.4413 - accuracy: 0.7368\n",
            "Epoch 22/110\n",
            "7/7 [==============================] - 0s 7ms/step - loss: 0.4364 - accuracy: 0.7656\n",
            "Epoch 23/110\n",
            "7/7 [==============================] - 0s 7ms/step - loss: 0.4043 - accuracy: 0.7990\n",
            "Epoch 24/110\n",
            "7/7 [==============================] - 0s 6ms/step - loss: 0.4607 - accuracy: 0.7656\n",
            "Epoch 25/110\n",
            "7/7 [==============================] - 0s 6ms/step - loss: 0.4433 - accuracy: 0.7751\n",
            "Epoch 26/110\n",
            "7/7 [==============================] - 0s 6ms/step - loss: 0.4765 - accuracy: 0.7225\n",
            "Epoch 27/110\n",
            "7/7 [==============================] - 0s 6ms/step - loss: 0.4050 - accuracy: 0.7799\n",
            "Epoch 28/110\n",
            "7/7 [==============================] - 0s 6ms/step - loss: 0.3926 - accuracy: 0.8230\n",
            "Epoch 29/110\n",
            "7/7 [==============================] - 0s 6ms/step - loss: 0.3596 - accuracy: 0.8517\n",
            "Epoch 30/110\n",
            "7/7 [==============================] - 0s 6ms/step - loss: 0.3362 - accuracy: 0.8565\n",
            "Epoch 31/110\n",
            "7/7 [==============================] - 0s 5ms/step - loss: 0.3357 - accuracy: 0.8469\n",
            "Epoch 32/110\n",
            "7/7 [==============================] - 0s 5ms/step - loss: 0.3329 - accuracy: 0.8565\n",
            "Epoch 33/110\n",
            "7/7 [==============================] - 0s 6ms/step - loss: 0.3412 - accuracy: 0.8565\n",
            "Epoch 34/110\n",
            "7/7 [==============================] - 0s 6ms/step - loss: 0.3793 - accuracy: 0.8038\n",
            "Epoch 35/110\n",
            "7/7 [==============================] - 0s 5ms/step - loss: 0.3356 - accuracy: 0.8421\n",
            "Epoch 36/110\n",
            "7/7 [==============================] - 0s 6ms/step - loss: 0.3401 - accuracy: 0.8373\n",
            "Epoch 37/110\n",
            "7/7 [==============================] - 0s 6ms/step - loss: 0.2802 - accuracy: 0.8852\n",
            "Epoch 38/110\n",
            "7/7 [==============================] - 0s 6ms/step - loss: 0.2515 - accuracy: 0.8995\n",
            "Epoch 39/110\n",
            "7/7 [==============================] - 0s 6ms/step - loss: 0.2765 - accuracy: 0.8947\n",
            "Epoch 40/110\n",
            "7/7 [==============================] - 0s 6ms/step - loss: 0.2806 - accuracy: 0.8852\n",
            "Epoch 41/110\n",
            "7/7 [==============================] - 0s 32ms/step - loss: 0.3470 - accuracy: 0.8325\n",
            "Epoch 42/110\n",
            "7/7 [==============================] - 0s 6ms/step - loss: 0.2346 - accuracy: 0.9139\n",
            "Epoch 43/110\n",
            "7/7 [==============================] - 0s 6ms/step - loss: 0.3532 - accuracy: 0.8278\n",
            "Epoch 44/110\n",
            "7/7 [==============================] - 0s 7ms/step - loss: 0.3712 - accuracy: 0.8182\n",
            "Epoch 45/110\n",
            "7/7 [==============================] - 0s 6ms/step - loss: 0.3030 - accuracy: 0.8660\n",
            "Epoch 46/110\n",
            "7/7 [==============================] - 0s 6ms/step - loss: 0.2283 - accuracy: 0.9043\n",
            "Epoch 47/110\n",
            "7/7 [==============================] - 0s 6ms/step - loss: 0.2507 - accuracy: 0.8947\n",
            "Epoch 48/110\n",
            "7/7 [==============================] - 0s 6ms/step - loss: 0.1899 - accuracy: 0.9426\n",
            "Epoch 49/110\n",
            "7/7 [==============================] - 0s 7ms/step - loss: 0.1817 - accuracy: 0.9474\n",
            "Epoch 50/110\n",
            "7/7 [==============================] - 0s 6ms/step - loss: 0.2664 - accuracy: 0.8804\n",
            "Epoch 51/110\n",
            "7/7 [==============================] - 0s 6ms/step - loss: 0.2931 - accuracy: 0.8660\n",
            "Epoch 52/110\n",
            "7/7 [==============================] - 0s 6ms/step - loss: 0.3124 - accuracy: 0.8612\n",
            "Epoch 53/110\n",
            "7/7 [==============================] - 0s 7ms/step - loss: 0.3087 - accuracy: 0.8612\n",
            "Epoch 54/110\n",
            "7/7 [==============================] - 0s 6ms/step - loss: 0.1985 - accuracy: 0.9234\n",
            "Epoch 55/110\n",
            "7/7 [==============================] - 0s 6ms/step - loss: 0.2035 - accuracy: 0.9378\n",
            "Epoch 56/110\n",
            "7/7 [==============================] - 0s 6ms/step - loss: 0.1546 - accuracy: 0.9569\n",
            "Epoch 57/110\n",
            "7/7 [==============================] - 0s 6ms/step - loss: 0.1464 - accuracy: 0.9522\n",
            "Epoch 58/110\n",
            "7/7 [==============================] - 0s 6ms/step - loss: 0.1474 - accuracy: 0.9569\n",
            "Epoch 59/110\n",
            "7/7 [==============================] - 0s 6ms/step - loss: 0.1326 - accuracy: 0.9665\n",
            "Epoch 60/110\n",
            "7/7 [==============================] - 0s 7ms/step - loss: 0.1563 - accuracy: 0.9522\n",
            "Epoch 61/110\n",
            "7/7 [==============================] - 0s 30ms/step - loss: 0.1618 - accuracy: 0.9426\n",
            "Epoch 62/110\n",
            "7/7 [==============================] - 0s 6ms/step - loss: 0.1210 - accuracy: 0.9617\n",
            "Epoch 63/110\n",
            "7/7 [==============================] - 0s 6ms/step - loss: 0.1299 - accuracy: 0.9617\n",
            "Epoch 64/110\n",
            "7/7 [==============================] - 0s 6ms/step - loss: 0.1095 - accuracy: 0.9761\n",
            "Epoch 65/110\n",
            "7/7 [==============================] - 0s 6ms/step - loss: 0.0944 - accuracy: 0.9856\n",
            "Epoch 66/110\n",
            "7/7 [==============================] - 0s 6ms/step - loss: 0.1046 - accuracy: 0.9761\n",
            "Epoch 67/110\n",
            "7/7 [==============================] - 0s 6ms/step - loss: 0.1011 - accuracy: 0.9809\n",
            "Epoch 68/110\n",
            "7/7 [==============================] - 0s 5ms/step - loss: 0.1009 - accuracy: 0.9761\n",
            "Epoch 69/110\n",
            "7/7 [==============================] - 0s 7ms/step - loss: 0.1416 - accuracy: 0.9569\n",
            "Epoch 70/110\n",
            "7/7 [==============================] - 0s 7ms/step - loss: 0.1198 - accuracy: 0.9761\n",
            "Epoch 71/110\n",
            "7/7 [==============================] - 0s 6ms/step - loss: 0.0732 - accuracy: 0.9761\n",
            "Epoch 72/110\n",
            "7/7 [==============================] - 0s 6ms/step - loss: 0.0720 - accuracy: 0.9809\n",
            "Epoch 73/110\n",
            "7/7 [==============================] - 0s 6ms/step - loss: 0.0598 - accuracy: 0.9856\n",
            "Epoch 74/110\n",
            "7/7 [==============================] - 0s 6ms/step - loss: 0.0655 - accuracy: 0.9809\n",
            "Epoch 75/110\n",
            "7/7 [==============================] - 0s 6ms/step - loss: 0.0520 - accuracy: 0.9856\n",
            "Epoch 76/110\n",
            "7/7 [==============================] - 0s 21ms/step - loss: 0.0463 - accuracy: 0.9904\n",
            "Epoch 77/110\n",
            "7/7 [==============================] - 0s 6ms/step - loss: 0.0570 - accuracy: 0.9856\n",
            "Epoch 78/110\n",
            "7/7 [==============================] - 0s 7ms/step - loss: 0.0412 - accuracy: 0.9952\n",
            "Epoch 79/110\n",
            "7/7 [==============================] - 0s 6ms/step - loss: 0.0492 - accuracy: 0.9904\n",
            "Epoch 80/110\n",
            "7/7 [==============================] - 0s 6ms/step - loss: 0.0396 - accuracy: 0.9952\n",
            "Epoch 81/110\n",
            "7/7 [==============================] - 0s 7ms/step - loss: 0.0404 - accuracy: 0.9952\n",
            "Epoch 82/110\n",
            "7/7 [==============================] - 0s 6ms/step - loss: 0.0485 - accuracy: 0.9952\n",
            "Epoch 83/110\n",
            "7/7 [==============================] - 0s 6ms/step - loss: 0.0371 - accuracy: 0.9904\n",
            "Epoch 84/110\n",
            "7/7 [==============================] - 0s 6ms/step - loss: 0.0315 - accuracy: 0.9952\n",
            "Epoch 85/110\n",
            "7/7 [==============================] - 0s 5ms/step - loss: 0.0274 - accuracy: 0.9952\n",
            "Epoch 86/110\n",
            "7/7 [==============================] - 0s 6ms/step - loss: 0.0268 - accuracy: 1.0000\n",
            "Epoch 87/110\n",
            "7/7 [==============================] - 0s 7ms/step - loss: 0.0340 - accuracy: 0.9904\n",
            "Epoch 88/110\n",
            "7/7 [==============================] - 0s 6ms/step - loss: 0.0694 - accuracy: 0.9856\n",
            "Epoch 89/110\n",
            "7/7 [==============================] - 0s 6ms/step - loss: 0.1210 - accuracy: 0.9522\n",
            "Epoch 90/110\n",
            "7/7 [==============================] - 0s 6ms/step - loss: 0.0358 - accuracy: 0.9952\n",
            "Epoch 91/110\n",
            "7/7 [==============================] - 0s 6ms/step - loss: 0.0350 - accuracy: 0.9952\n",
            "Epoch 92/110\n",
            "7/7 [==============================] - 0s 6ms/step - loss: 0.0640 - accuracy: 0.9809\n",
            "Epoch 93/110\n",
            "7/7 [==============================] - 0s 6ms/step - loss: 0.0446 - accuracy: 0.9904\n",
            "Epoch 94/110\n",
            "7/7 [==============================] - 0s 6ms/step - loss: 0.0251 - accuracy: 1.0000\n",
            "Epoch 95/110\n",
            "7/7 [==============================] - 0s 7ms/step - loss: 0.0178 - accuracy: 1.0000\n",
            "Epoch 96/110\n",
            "7/7 [==============================] - 0s 7ms/step - loss: 0.0203 - accuracy: 1.0000\n",
            "Epoch 97/110\n",
            "7/7 [==============================] - 0s 6ms/step - loss: 0.0210 - accuracy: 1.0000\n",
            "Epoch 98/110\n",
            "7/7 [==============================] - 0s 6ms/step - loss: 0.0180 - accuracy: 1.0000\n",
            "Epoch 99/110\n",
            "7/7 [==============================] - 0s 6ms/step - loss: 0.0338 - accuracy: 0.9904\n",
            "Epoch 100/110\n",
            "7/7 [==============================] - 0s 6ms/step - loss: 0.0176 - accuracy: 1.0000\n",
            "Epoch 101/110\n",
            "7/7 [==============================] - 0s 6ms/step - loss: 0.0227 - accuracy: 0.9952\n",
            "Epoch 102/110\n",
            "7/7 [==============================] - 0s 6ms/step - loss: 0.0132 - accuracy: 1.0000\n",
            "Epoch 103/110\n",
            "7/7 [==============================] - 0s 6ms/step - loss: 0.0140 - accuracy: 1.0000\n",
            "Epoch 104/110\n",
            "7/7 [==============================] - 0s 7ms/step - loss: 0.0291 - accuracy: 0.9952\n",
            "Epoch 105/110\n",
            "7/7 [==============================] - 0s 6ms/step - loss: 0.0283 - accuracy: 1.0000\n",
            "Epoch 106/110\n",
            "7/7 [==============================] - 0s 6ms/step - loss: 0.0150 - accuracy: 1.0000\n",
            "Epoch 107/110\n",
            "7/7 [==============================] - 0s 8ms/step - loss: 0.0121 - accuracy: 1.0000\n",
            "Epoch 108/110\n",
            "7/7 [==============================] - 0s 6ms/step - loss: 0.0094 - accuracy: 1.0000\n",
            "Epoch 109/110\n",
            "7/7 [==============================] - 0s 6ms/step - loss: 0.0111 - accuracy: 1.0000\n",
            "Epoch 110/110\n",
            "7/7 [==============================] - 0s 6ms/step - loss: 0.0094 - accuracy: 1.0000\n"
          ]
        },
        {
          "output_type": "error",
          "ename": "KeyError",
          "evalue": "ignored",
          "traceback": [
            "\u001b[0;31m---------------------------------------------------------------------------\u001b[0m",
            "\u001b[0;31mKeyError\u001b[0m                                  Traceback (most recent call last)",
            "\u001b[0;32m<ipython-input-12-b76a6b8a3dd2>\u001b[0m in \u001b[0;36m<module>\u001b[0;34m()\u001b[0m\n\u001b[1;32m      8\u001b[0m \u001b[0mplt\u001b[0m\u001b[0;34m.\u001b[0m\u001b[0mfigure\u001b[0m\u001b[0;34m(\u001b[0m\u001b[0;34m)\u001b[0m\u001b[0;34m\u001b[0m\u001b[0;34m\u001b[0m\u001b[0m\n\u001b[1;32m      9\u001b[0m \u001b[0mplt\u001b[0m\u001b[0;34m.\u001b[0m\u001b[0mplot\u001b[0m\u001b[0;34m(\u001b[0m\u001b[0mhistory\u001b[0m\u001b[0;34m.\u001b[0m\u001b[0mhistory\u001b[0m\u001b[0;34m[\u001b[0m\u001b[0;34m'loss'\u001b[0m\u001b[0;34m]\u001b[0m\u001b[0;34m)\u001b[0m\u001b[0;34m\u001b[0m\u001b[0;34m\u001b[0m\u001b[0m\n\u001b[0;32m---> 10\u001b[0;31m \u001b[0mplt\u001b[0m\u001b[0;34m.\u001b[0m\u001b[0mplot\u001b[0m\u001b[0;34m(\u001b[0m\u001b[0mhistory\u001b[0m\u001b[0;34m.\u001b[0m\u001b[0mhistory\u001b[0m\u001b[0;34m[\u001b[0m\u001b[0;34m'val_loss'\u001b[0m\u001b[0;34m]\u001b[0m\u001b[0;34m)\u001b[0m\u001b[0;34m\u001b[0m\u001b[0;34m\u001b[0m\u001b[0m\n\u001b[0m\u001b[1;32m     11\u001b[0m \u001b[0mplt\u001b[0m\u001b[0;34m.\u001b[0m\u001b[0mlegend\u001b[0m\u001b[0;34m(\u001b[0m\u001b[0;34m[\u001b[0m\u001b[0;34m'loss'\u001b[0m\u001b[0;34m,\u001b[0m\u001b[0;34m'val_loss'\u001b[0m\u001b[0;34m]\u001b[0m\u001b[0;34m)\u001b[0m\u001b[0;34m\u001b[0m\u001b[0;34m\u001b[0m\u001b[0m\n",
            "\u001b[0;31mKeyError\u001b[0m: 'val_loss'"
          ]
        },
        {
          "output_type": "display_data",
          "data": {
            "image/png": "[encoded data removed]",
            "text/plain": [
              "<Figure size 360x288 with 1 Axes>"
            ]
          },
          "metadata": {
            "needs_background": "light"
          }
        }
      ]
    },
    {
      "cell_type": "markdown",
      "metadata": {
        "id": "-yLMfXSWfKVA"
      },
      "source": [
        "### 4. test ###\n",
        "Now that both models are trained, let us test their performance using our test dataset. The test dataset is never used to train the models, and reflects the acutual performance of the model when it is used in the general images.\n",
        "\n",
        "To evaluate the model , we can use\n",
        "`cat_model.evaluate(test_x,test_y)`.\n",
        "\n",
        "**Exercise**: Please evaluate the model with regularization. "
      ]
    },
    {
      "cell_type": "code",
      "metadata": {
        "id": "4pyTS3HmHXFQ"
      },
      "source": [
        "cat_model.evaluate(test_x,test_y)"
      ],
      "execution_count": null,
      "outputs": []
    },
    {
      "cell_type": "markdown",
      "metadata": {
        "id": "crWckG9I807Q"
      },
      "source": [
        "The expected accuracy is higher than 0.7. If the accuracy is lower than 0.7, you may want to increase the epoch number, adjust the learning rate, and the regularizer weight, to achieve the goal. \n",
        "\n",
        "For your reference, I trained the model for 5 min to achieve that goal. \n",
        "\n",
        "If you have achieved the 0.7 goal, I would like to challenge you for the 0.8 accuracy for the test set. "
      ]
    }
  ]
}